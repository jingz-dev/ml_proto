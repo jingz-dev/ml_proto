{
 "cells": [
  {
   "cell_type": "code",
   "execution_count": 18,
   "metadata": {},
   "outputs": [],
   "source": [
    "# based on https://pylessons.com/CartPole-reinforcement-learning"
   ]
  },
  {
   "cell_type": "code",
   "execution_count": 2,
   "metadata": {},
   "outputs": [],
   "source": [
    "import gymnasium as gym\n",
    "import random\n",
    "import numpy as np\n",
    "import torch\n",
    "import torch.nn as nn\n",
    "import torch.nn.functional as F"
   ]
  },
  {
   "cell_type": "code",
   "execution_count": 3,
   "metadata": {},
   "outputs": [],
   "source": [
    "env = gym.make('CartPole-v1')"
   ]
  },
  {
   "cell_type": "code",
   "execution_count": 4,
   "metadata": {},
   "outputs": [],
   "source": [
    "class MLP(nn.Module):\n",
    "    def __init__(self, input_dim):\n",
    "        super().__init__()\n",
    "        self.fc1 = nn.Linear(input_dim, 256)\n",
    "        # self.fc2 = nn.Linear(512, 256)\n",
    "        self.fc3 = nn.Linear(256, 64)\n",
    "        self.fc4 = nn.Linear(64, 2)\n",
    "\n",
    "    def forward(self, x):\n",
    "        x = self.fc1(x)\n",
    "        x = F.relu(x)\n",
    "        # x = self.fc2(x)\n",
    "        # x = F.relu(x)\n",
    "        x = self.fc3(x)\n",
    "        x = F.relu(x)\n",
    "        x = self.fc4(x)\n",
    "        return x"
   ]
  },
  {
   "cell_type": "code",
   "execution_count": 5,
   "metadata": {},
   "outputs": [],
   "source": [
    "from collections import deque\n",
    "\n",
    "memory = deque(maxlen=2000)\n",
    "gamma = 0.95\n",
    "epsilon = 1.0\n",
    "epsilon_decay = 0.999\n",
    "epsilon_min = 0.001\n",
    "\n",
    "min_train_size = 1000\n",
    "batch_size = 64\n"
   ]
  },
  {
   "cell_type": "code",
   "execution_count": 6,
   "metadata": {},
   "outputs": [],
   "source": [
    "model = MLP(4)"
   ]
  },
  {
   "cell_type": "code",
   "execution_count": 7,
   "metadata": {},
   "outputs": [],
   "source": [
    "def remember(state, action, reward, next_state, done, i=-1):\n",
    "    global epsilon\n",
    "    memory.append(np.array([state, action, reward, next_state, done, i], dtype=object))\n",
    "    if len(memory) > min_train_size and epsilon > epsilon_min:\n",
    "        epsilon *= epsilon_decay"
   ]
  },
  {
   "cell_type": "code",
   "execution_count": 8,
   "metadata": {},
   "outputs": [],
   "source": [
    "def choose_action(state):\n",
    "    global epsilon\n",
    "    if np.random.random() <= epsilon:\n",
    "        return env.action_space.sample()\n",
    "    else:\n",
    "        with torch.no_grad():\n",
    "            return np.argmax(model(state).numpy())"
   ]
  },
  {
   "cell_type": "code",
   "execution_count": 9,
   "metadata": {},
   "outputs": [],
   "source": [
    "optimizer = torch.optim.RMSprop(model.parameters(), lr=0.00025, alpha=0.95, eps=0.01)\n",
    "minibatch = None\n",
    "def replay():\n",
    "    global minibatch\n",
    "    # not enough samples\n",
    "    if len(memory) < min_train_size:\n",
    "        return\n",
    "    minibatch = np.array(random.sample(memory, k=min(len(memory), batch_size)))\n",
    "\n",
    "    state = torch.stack(tuple(minibatch[:, 0]))\n",
    "    action = minibatch[:, 1].astype(int)\n",
    "    reward = minibatch[:, 2].astype(float)\n",
    "    next_state = torch.stack(tuple(minibatch[:, 3])).detach()\n",
    "    done = minibatch[:, 4].astype(bool)\n",
    "\n",
    "    with torch.no_grad():\n",
    "        target = model(state).numpy()\n",
    "        next_target = model(next_state).numpy()\n",
    "    \n",
    "    target[done, action[done]] = -100\n",
    "    target[~done, action[~done]] = reward[~done] + gamma * np.max(next_target[~done])\n",
    "\n",
    "    target = torch.FloatTensor(target)\n",
    "    # train\n",
    "    optimizer.zero_grad()\n",
    "    q_values = model(state)\n",
    "    loss = F.mse_loss(q_values, target)\n",
    "    loss.backward()\n",
    "    optimizer.step()"
   ]
  },
  {
   "cell_type": "code",
   "execution_count": 10,
   "metadata": {},
   "outputs": [],
   "source": [
    "def replay():\n",
    "    if len(memory) < min_train_size:\n",
    "        return\n",
    "    minibatch = random.sample(memory, min(len(memory), batch_size))\n",
    "\n",
    "    state = torch.stack([m[0] for m in minibatch])\n",
    "    action = torch.LongTensor([m[1] for m in minibatch])\n",
    "    reward = torch.FloatTensor([m[2] for m in minibatch])\n",
    "    next_state = torch.stack([m[3] for m in minibatch])\n",
    "    done = torch.BoolTensor([m[4] for m in minibatch])\n",
    "    steps = torch.LongTensor([m[5] for m in minibatch])\n",
    "\n",
    "    with torch.no_grad():\n",
    "        next_target = model(next_state)\n",
    "        max_next_target = torch.max(next_target, dim=1)[0]\n",
    "    \n",
    "    target = model(state).detach()\n",
    "    \n",
    "    target[range(batch_size), action] = reward + gamma * max_next_target * (~done)\n",
    "    premature_done = done & (steps < 500)\n",
    "    target[premature_done, action[premature_done]] = -100\n",
    "\n",
    "    # Compute the loss only for the actions taken\n",
    "    q_values = model(state)\n",
    "    q_values = q_values.gather(1, action.unsqueeze(1)).squeeze(1)\n",
    "    \n",
    "    # Get the targets for the actions taken\n",
    "    target_action_values = target.gather(1, action.unsqueeze(1)).squeeze(1)\n",
    "\n",
    "    loss = F.mse_loss(q_values, target_action_values)\n",
    "    optimizer.zero_grad()\n",
    "    loss.backward()\n",
    "    optimizer.step()\n",
    "\n",
    "    # Print loss for debugging\n",
    "    print(f'Loss: {loss.item()}')"
   ]
  },
  {
   "cell_type": "code",
   "execution_count": null,
   "metadata": {},
   "outputs": [],
   "source": [
    "episodes = 600\n",
    "torch.set_grad_enabled(True)\n",
    "model.train()\n",
    "\n",
    "debug_i = []\n",
    "\n",
    "for e in range(episodes):\n",
    "    state, _ = env.reset()\n",
    "    state = torch.tensor(state)\n",
    "    done = False\n",
    "    i = 0\n",
    "    while not done:\n",
    "        action = choose_action(state)\n",
    "        next_state, reward, terminate, truncate, info = env.step(action)\n",
    "        done = terminate or truncate\n",
    "        next_state = torch.tensor(next_state)\n",
    "        \n",
    "        if done and i < 500:\n",
    "            reward = -100\n",
    "        # print(action, reward, done)\n",
    "        remember(state, action, reward, next_state, done, i)\n",
    "        state = next_state\n",
    "        i += 1\n",
    "        replay() # train from memory\n",
    "    debug_i.append(i)\n"
   ]
  },
  {
   "cell_type": "code",
   "execution_count": 14,
   "metadata": {},
   "outputs": [
    {
     "data": {
      "text/plain": [
       "[<matplotlib.lines.Line2D at 0x7f2943a22c90>]"
      ]
     },
     "execution_count": 14,
     "metadata": {},
     "output_type": "execute_result"
    },
    {
     "data": {
      "image/png": "[encoded data removed]",
      "text/plain": [
       "<Figure size 640x480 with 1 Axes>"
      ]
     },
     "metadata": {},
     "output_type": "display_data"
    }
   ],
   "source": [
    "import matplotlib.pyplot as plt\n",
    "\n",
    "plt.plot(range(len(debug_i)), debug_i)"
   ]
  },
  {
   "cell_type": "code",
   "execution_count": 82,
   "metadata": {},
   "outputs": [],
   "source": [
    "eval_env = gym.make('CartPole-v1', render_mode='human')"
   ]
  },
  {
   "cell_type": "code",
   "execution_count": 84,
   "metadata": {},
   "outputs": [
    {
     "data": {
      "text/plain": [
       "tensor([23.1502, 23.5180])"
      ]
     },
     "execution_count": 84,
     "metadata": {},
     "output_type": "execute_result"
    }
   ],
   "source": [
    "state, _ = eval_env.reset()\n",
    "state = torch.tensor(state)\n",
    "model(state)"
   ]
  },
  {
   "cell_type": "code",
   "execution_count": null,
   "metadata": {},
   "outputs": [],
   "source": [
    "# test the model\n",
    "model.eval()\n",
    "torch.set_grad_enabled(False)\n",
    "for e in range(10):\n",
    "    reward_total = 0\n",
    "    state, _ = eval_env.reset()\n",
    "    state = torch.tensor(state)\n",
    "    done = False\n",
    "    i = 0\n",
    "    while not done:\n",
    "        eval_env.render()\n",
    "        action = np.argmax(model(state).numpy())\n",
    "        next_state, reward, terminate, truncate, info = eval_env.step(action)\n",
    "        state = torch.tensor(next_state)\n",
    "        done = terminate or truncate\n",
    "        i += 1\n",
    "        reward_total += reward\n",
    "    print(f'episode: {e}, reward: {reward_total}')        \n"
   ]
  },
  {
   "cell_type": "code",
   "execution_count": 15,
   "metadata": {},
   "outputs": [],
   "source": [
    "for m in memory:\n",
    "    next_state, reward, terminate, truncate, info, i = m\n",
    "    if reward < 0:\n",
    "        print(m)"
   ]
  },
  {
   "cell_type": "code",
   "execution_count": 16,
   "metadata": {},
   "outputs": [],
   "source": [
    "import pandas as pd"
   ]
  },
  {
   "cell_type": "code",
   "execution_count": 17,
   "metadata": {},
   "outputs": [
    {
     "data": {
      "text/html": [
       "<div>\n",
       "<style scoped>\n",
       "    .dataframe tbody tr th:only-of-type {\n",
       "        vertical-align: middle;\n",
       "    }\n",
       "\n",
       "    .dataframe tbody tr th {\n",
       "        vertical-align: top;\n",
       "    }\n",
       "\n",
       "    .dataframe thead th {\n",
       "        text-align: right;\n",
       "    }\n",
       "</style>\n",
       "<table border=\"1\" class=\"dataframe\">\n",
       "  <thead>\n",
       "    <tr style=\"text-align: right;\">\n",
       "      <th></th>\n",
       "      <th>1</th>\n",
       "      <th>2</th>\n",
       "      <th>5</th>\n",
       "    </tr>\n",
       "  </thead>\n",
       "  <tbody>\n",
       "    <tr>\n",
       "      <th>count</th>\n",
       "      <td>2000.000000</td>\n",
       "      <td>2000.000000</td>\n",
       "      <td>2000.000000</td>\n",
       "    </tr>\n",
       "    <tr>\n",
       "      <th>mean</th>\n",
       "      <td>0.496500</td>\n",
       "      <td>0.798000</td>\n",
       "      <td>240.113000</td>\n",
       "    </tr>\n",
       "    <tr>\n",
       "      <th>std</th>\n",
       "      <td>0.500113</td>\n",
       "      <td>4.513467</td>\n",
       "      <td>136.537103</td>\n",
       "    </tr>\n",
       "    <tr>\n",
       "      <th>min</th>\n",
       "      <td>0.000000</td>\n",
       "      <td>-100.000000</td>\n",
       "      <td>0.000000</td>\n",
       "    </tr>\n",
       "    <tr>\n",
       "      <th>25%</th>\n",
       "      <td>0.000000</td>\n",
       "      <td>1.000000</td>\n",
       "      <td>124.750000</td>\n",
       "    </tr>\n",
       "    <tr>\n",
       "      <th>50%</th>\n",
       "      <td>0.000000</td>\n",
       "      <td>1.000000</td>\n",
       "      <td>244.500000</td>\n",
       "    </tr>\n",
       "    <tr>\n",
       "      <th>75%</th>\n",
       "      <td>1.000000</td>\n",
       "      <td>1.000000</td>\n",
       "      <td>344.250000</td>\n",
       "    </tr>\n",
       "    <tr>\n",
       "      <th>max</th>\n",
       "      <td>1.000000</td>\n",
       "      <td>1.000000</td>\n",
       "      <td>499.000000</td>\n",
       "    </tr>\n",
       "  </tbody>\n",
       "</table>\n",
       "</div>"
      ],
      "text/plain": [
       "                 1            2            5\n",
       "count  2000.000000  2000.000000  2000.000000\n",
       "mean      0.496500     0.798000   240.113000\n",
       "std       0.500113     4.513467   136.537103\n",
       "min       0.000000  -100.000000     0.000000\n",
       "25%       0.000000     1.000000   124.750000\n",
       "50%       0.000000     1.000000   244.500000\n",
       "75%       1.000000     1.000000   344.250000\n",
       "max       1.000000     1.000000   499.000000"
      ]
     },
     "execution_count": 17,
     "metadata": {},
     "output_type": "execute_result"
    }
   ],
   "source": [
    "df = pd.DataFrame(memory)\n",
    "df.describe()"
   ]
  },
  {
   "cell_type": "code",
   "execution_count": null,
   "metadata": {},
   "outputs": [],
   "source": []
  }
 ],
 "metadata": {
  "kernelspec": {
   "display_name": "MLPROTO",
   "language": "python",
   "name": "python3"
  },
  "language_info": {
   "codemirror_mode": {
    "name": "ipython",
    "version": 3
   },
   "file_extension": ".py",
   "mimetype": "text/x-python",
   "name": "python",
   "nbconvert_exporter": "python",
   "pygments_lexer": "ipython3",
   "version": "3.11.9"
  }
 },
 "nbformat": 4,
 "nbformat_minor": 2
}
